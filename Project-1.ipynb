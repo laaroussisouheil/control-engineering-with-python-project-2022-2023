{
 "cells": [
  {
   "cell_type": "markdown",
   "metadata": {
    "tags": []
   },
   "source": [
    "# Wheelchair Control\n",
    "\n",
    "![](images/wheelchair.jpg)"
   ]
  },
  {
   "cell_type": "markdown",
   "metadata": {},
   "source": [
    "### Python Dependencies"
   ]
  },
  {
   "cell_type": "code",
   "execution_count": 1,
   "metadata": {},
   "outputs": [],
   "source": [
    "from numpy import *\n",
    "from numpy.linalg import *\n",
    "\n",
    "\n",
    "from scipy.linalg import *\n",
    "from scipy.integrate import *\n",
    "from scipy.signal import *\n",
    "\n",
    "from matplotlib.pyplot import *\n",
    "import matplotlib.transforms as transforms"
   ]
  },
  {
   "cell_type": "markdown",
   "metadata": {
    "tags": []
   },
   "source": [
    "Step 1 - Wheelchair Planar Model\n",
    "================================"
   ]
  },
  {
   "cell_type": "markdown",
   "metadata": {
    "tags": []
   },
   "source": [
    "### Introduction"
   ]
  },
  {
   "cell_type": "markdown",
   "metadata": {
    "tags": []
   },
   "source": [
    "We consider a simple model of a wheelchair evolving in the plane. It is mainly made of\n",
    "\n",
    "  - A frame ; from above, its most visible component is the seat. We assume that it is a square,\n",
    "\n",
    "  - Two fixed wheels (their orientation with respect to the frame does not change). \n",
    "    They are parallel and located at opposite ends of the seat. \n",
    "    \n",
    "We assume that the seat backrest is on top of the wheels common axis.\n",
    "\n",
    "\n",
    "Let $(0, e_x, e_y)$ be a direct orthonormal frame of the plane. We denote \n",
    "\n",
    "  - $(x, y)$ the coordinates of the wheel axis center in the orthonormal and \n",
    "  - $\\theta$ the angle of the wheels direction with respect to vector $e_x$ ; with $\\theta = 0$ when the front of the wheelchait faces the right ($e_x$) and $\\theta = \\pi/2$ when it faces upwards ($e_y$).\n",
    "\n",
    "  - $\\phi_l$ and $\\phi_r$ the rotation angles of the left and right wheel respectively ; by convention, when these angles increase, the wheelchair moves forward."
   ]
  },
  {
   "cell_type": "markdown",
   "metadata": {
    "tags": []
   },
   "source": [
    "### Parameter Definition"
   ]
  },
  {
   "cell_type": "markdown",
   "metadata": {
    "tags": []
   },
   "source": [
    "From now on, we assume that the seat side length is $L = 50 \\mbox{ cm}$ and the wheel radius is $R_w = 30 \\mbox{ cm}$.\n",
    "\n",
    "🧩 Define the corresponding Python variables `L` and `Rw` (express every length in meters, and more generally in the sequel, always use the [international standard of units](https://en.wikipedia.org/wiki/SI_derived_unit)) for numerical values. "
   ]
  },
  {
   "cell_type": "code",
   "execution_count": 2,
   "metadata": {},
   "outputs": [],
   "source": [
    "L = 0.5\n",
    "R_w=0.3"
   ]
  },
  {
   "cell_type": "markdown",
   "metadata": {},
   "source": [
    "### Graphical Representation\n",
    "\n",
    "🧩 Implement a function `draw_wheelchair` with arguments `x`, `y` and `theta` that draws a simple geometric model of the wheelchair (with seat and fixed wheels) in the plane (top view) for arbitrary values of $(x, y)$ and $\\theta$. \n",
    "\n",
    "🗝️ **Hint.** Use the function `plot` of `matplotlib.pyplot`.\n",
    "\n",
    "<span style=\"color:red\">**Vous utilisez plt.plot au lieu de plot... Les figures qui étaient initialment présentées ne vont vraiment pas...**</span>"
   ]
  },
  {
   "cell_type": "code",
   "execution_count": 3,
   "metadata": {},
   "outputs": [
    {
     "ename": "NameError",
     "evalue": "name 'plt' is not defined",
     "output_type": "error",
     "traceback": [
      "\u001b[0;31m---------------------------------------------------------------------------\u001b[0m",
      "\u001b[0;31mNameError\u001b[0m                                 Traceback (most recent call last)",
      "Cell \u001b[0;32mIn[3], line 41\u001b[0m\n\u001b[1;32m     39\u001b[0m     plt\u001b[38;5;241m.\u001b[39mgrid()\n\u001b[1;32m     40\u001b[0m     plt\u001b[38;5;241m.\u001b[39mshow()\n\u001b[0;32m---> 41\u001b[0m \u001b[43mdraw_wheelchair\u001b[49m\u001b[43m(\u001b[49m\u001b[38;5;241;43m0\u001b[39;49m\u001b[43m,\u001b[49m\u001b[38;5;241;43m0\u001b[39;49m\u001b[43m,\u001b[49m\u001b[38;5;241;43m10\u001b[39;49m\u001b[43m)\u001b[49m\n",
      "Cell \u001b[0;32mIn[3], line 24\u001b[0m, in \u001b[0;36mdraw_wheelchair\u001b[0;34m(x, y, theta)\u001b[0m\n\u001b[1;32m     19\u001b[0m transform \u001b[38;5;241m=\u001b[39m Affine2D()\u001b[38;5;241m.\u001b[39mrotate_deg_around(x, y, theta)\n\u001b[1;32m     20\u001b[0m \u001b[38;5;66;03m# Apply the rotation transformation to the square\u001b[39;00m\n\u001b[1;32m     21\u001b[0m \n\u001b[1;32m     22\u001b[0m \u001b[38;5;66;03m# Create a figure and axis object\u001b[39;00m\n\u001b[0;32m---> 24\u001b[0m fig,ax \u001b[38;5;241m=\u001b[39m \u001b[43mplt\u001b[49m\u001b[38;5;241m.\u001b[39msubplots()\n\u001b[1;32m     26\u001b[0m \u001b[38;5;66;03m# Add the square to the axis\u001b[39;00m\n\u001b[1;32m     27\u001b[0m ax\u001b[38;5;241m.\u001b[39madd_patch(square)\n",
      "\u001b[0;31mNameError\u001b[0m: name 'plt' is not defined"
     ]
    }
   ],
   "source": [
    "from matplotlib.patches import Rectangle\n",
    "from matplotlib.lines import Line2D\n",
    "import matplotlib.transforms as transforms\n",
    "from matplotlib.transforms import Affine2D\n",
    "def draw_wheelchair(x, y, theta):\n",
    "    # Define the center point and side length of the square\n",
    "    side_length = L\n",
    "    # Calculate the coordinates of the bottom left corner of the square\n",
    "    x_corner = x - side_length / 2\n",
    "    y_corner = y - side_length / 2\n",
    "\n",
    "    # Create a Rectangle object with the calculated coordinates and side length\n",
    "    square = Rectangle((x_corner, y_corner), side_length, side_length, linewidth=1, edgecolor='r', facecolor='red')\n",
    "    line1 = Line2D([x-R_w, x + R_w ], [y-side_length/2, y - side_length / 2], linewidth=1, color='b')\n",
    "    line2 = Line2D([x-R_w, x + R_w ], [y+side_length/2, y + side_length / 2], linewidth=1, color='b')\n",
    "\n",
    "    # Create a transformation that rotates the square around its center point\n",
    "    #rotation = transforms.Affine2D().rotate_deg(theta).translate(x, y)\n",
    "    transform = Affine2D().rotate_deg_around(x, y, theta)\n",
    "    # Apply the rotation transformation to the square\n",
    "    \n",
    "    # Create a figure and axis object\n",
    "    \n",
    "    fig,ax = plt.subplots()\n",
    "\n",
    "    # Add the square to the axis\n",
    "    ax.add_patch(square)\n",
    "    ax.add_patch(line1)\n",
    "    ax.add_patch(line2)\n",
    "    \n",
    "    square.set_transform(transform+ ax.transData)\n",
    "    line1.set_transform(transform+ ax.transData)\n",
    "    line2.set_transform(transform+ ax.transData)\n",
    "\n",
    "    # Set the x and y limits of the axis to show the entire square\n",
    "    ax.set_xlim(x -side_length- 1, x + side_length + 1)\n",
    "    ax.set_ylim(y -side_length- 1, y + side_length + 1)\n",
    "    # Show the plot\n",
    "    plt.grid()\n",
    "    plt.show()\n",
    "draw_wheelchair(0,0,10)"
   ]
  },
  {
   "cell_type": "code",
   "execution_count": 4,
   "metadata": {},
   "outputs": [
    {
     "ename": "NameError",
     "evalue": "name 'plt' is not defined",
     "output_type": "error",
     "traceback": [
      "\u001b[0;31m---------------------------------------------------------------------------\u001b[0m",
      "\u001b[0;31mNameError\u001b[0m                                 Traceback (most recent call last)",
      "Cell \u001b[0;32mIn[4], line 1\u001b[0m\n\u001b[0;32m----> 1\u001b[0m \u001b[43mdraw_wheelchair\u001b[49m\u001b[43m(\u001b[49m\u001b[38;5;241;43m0\u001b[39;49m\u001b[43m,\u001b[49m\u001b[38;5;241;43m0\u001b[39;49m\u001b[43m,\u001b[49m\u001b[38;5;241;43m0\u001b[39;49m\u001b[43m)\u001b[49m\n\u001b[1;32m      2\u001b[0m draw_wheelchair(\u001b[38;5;241m-\u001b[39m\u001b[38;5;241m2\u001b[39m,\u001b[38;5;241m2\u001b[39m,np\u001b[38;5;241m.\u001b[39mpi\u001b[38;5;241m/\u001b[39m\u001b[38;5;241m2\u001b[39m)\n\u001b[1;32m      3\u001b[0m draw_wheelchair(\u001b[38;5;241m0\u001b[39m,\u001b[38;5;241m4\u001b[39m,np\u001b[38;5;241m.\u001b[39mpi)\n",
      "Cell \u001b[0;32mIn[3], line 24\u001b[0m, in \u001b[0;36mdraw_wheelchair\u001b[0;34m(x, y, theta)\u001b[0m\n\u001b[1;32m     19\u001b[0m transform \u001b[38;5;241m=\u001b[39m Affine2D()\u001b[38;5;241m.\u001b[39mrotate_deg_around(x, y, theta)\n\u001b[1;32m     20\u001b[0m \u001b[38;5;66;03m# Apply the rotation transformation to the square\u001b[39;00m\n\u001b[1;32m     21\u001b[0m \n\u001b[1;32m     22\u001b[0m \u001b[38;5;66;03m# Create a figure and axis object\u001b[39;00m\n\u001b[0;32m---> 24\u001b[0m fig,ax \u001b[38;5;241m=\u001b[39m \u001b[43mplt\u001b[49m\u001b[38;5;241m.\u001b[39msubplots()\n\u001b[1;32m     26\u001b[0m \u001b[38;5;66;03m# Add the square to the axis\u001b[39;00m\n\u001b[1;32m     27\u001b[0m ax\u001b[38;5;241m.\u001b[39madd_patch(square)\n",
      "\u001b[0;31mNameError\u001b[0m: name 'plt' is not defined"
     ]
    }
   ],
   "source": [
    "draw_wheelchair(0,0,0)\n",
    "draw_wheelchair(-2,2,np.pi/2)\n",
    "draw_wheelchair(0,4,np.pi)\n",
    "draw_wheelchair(-2,2,3*np.pi/2)\n"
   ]
  },
  {
   "cell_type": "markdown",
   "metadata": {},
   "source": [
    "🧩 Represent the wheelchair when $(x, y, \\theta) = (0, 0, 0), (2, 2, \\pi/2), (0, 4, \\pi), (-2, 2, 3\\pi/2)$.\n",
    "\n",
    "🗝️ **Hint.** Use the following `draw_arena` function beforehand."
   ]
  },
  {
   "cell_type": "code",
   "execution_count": 6,
   "metadata": {},
   "outputs": [],
   "source": [
    "def draw_arena(xmin, xmax, ymin, ymax):\n",
    "    wh_ratio = (xmax - xmin) / (ymax - ymin)\n",
    "    figsize = fig_width, fig_height = 16, 16 / wh_ratio\n",
    "    figure(figsize=figsize)\n",
    "    axes = gca()\n",
    "    axes.axis([xmin, xmax, ymin, ymax])\n",
    "    axes.set_aspect(1)\n",
    "    xticks(arange(xmin, xmax+1, 1))\n",
    "    yticks(arange(ymin, ymax+1, 1))\n",
    "    grid(True)"
   ]
  },
  {
   "cell_type": "markdown",
   "metadata": {},
   "source": [
    "**Answer:**"
   ]
  },
  {
   "cell_type": "code",
   "execution_count": null,
   "metadata": {},
   "outputs": [],
   "source": []
  },
  {
   "cell_type": "code",
   "execution_count": 7,
   "metadata": {},
   "outputs": [],
   "source": [
    "pass"
   ]
  },
  {
   "cell_type": "markdown",
   "metadata": {},
   "source": [
    "### Kinematic Modeling\n",
    "\n",
    "We assume that we can control the wheels angular velocities $\\omega_l = \\dot{\\phi}_l$ and $\\omega_r = \\dot{\\phi}_r$ (this is a *kinematic* model of the wheelchair).\n",
    "We also assume that the wheelchair fixed wheels roll without slipping. \n",
    "\n",
    "🧩 Establish the differential equations that relate $\\dot{x}$,\n",
    "$\\dot{y}$ and $\\dot{\\theta}$ with $\\omega_l$ and $\\omega_r$."
   ]
  },
  {
   "cell_type": "markdown",
   "metadata": {},
   "source": [
    "**Answer:** Vx=R*(𝜔𝑙+𝜔𝑟)*cos(𝜃); \n",
    "Vy=R*(𝜔𝑙+𝜔𝑟)*sin(𝜃) ;  \n",
    "𝜃˙=R/L*(𝜔𝑟-𝜔𝑙)\n",
    "\n",
    "<span style=\"color:red\">**Explications ?**</span>"
   ]
  },
  {
   "cell_type": "markdown",
   "metadata": {},
   "source": [
    "### Analysis\n",
    "\n",
    "🧩 Show that if $\\omega_l$ and $\\omega_r$ are continuously differentiable functions of $(x, y, \\theta)$ (which includes the case of constant inputs), this system is well-posed."
   ]
  },
  {
   "cell_type": "markdown",
   "metadata": {},
   "source": [
    "**Answer:** \n",
    "ωR = 1/2R * (∂x/∂t cos(θ) + ∂y/∂t sin(θ)) + 1/2L * (∂θ/∂t)\n",
    "ωL = 1/2R * (∂x/∂t cos(θ) + ∂y/∂t sin(θ)) - 1/2L * (∂θ/∂t)\n",
    "Since ωR and ωL are expressed in terms of Vx, Vy, and θ, which are all continuously differentiable functions of (x, y, θ), it follows that ωR and ωL are also continuously differentiable functions of (x, y, θ).\n",
    "\n",
    "<span style=\"color:red\">**Je ne comprends pas le raisonnement... L'hypothèse de base est que les vitesses de rotations sont bien C1, et vous essayer de démontrer qu'elles le sont... ?**</span>\n",
    "\n"
   ]
  },
  {
   "cell_type": "markdown",
   "metadata": {},
   "source": [
    "🧩 Show that if $\\omega_l$ and $\\omega_r$ are constants, the maximal solution associated to any initial state is global. Is is still true of $\\omega_l$ and $\\omega_r$ are arbitrary continuously differentiable functions of $(x, y, \\theta)$ ?"
   ]
  },
  {
   "cell_type": "markdown",
   "metadata": {},
   "source": [
    "**Answer:** \n",
    "If ωL and ωR are constants\n",
    "x(t) = x0 + R/2 * (ωR + ωL) * cos(θ0) * t\n",
    "y(t) = y0 + R/2 * (ωR + ωL) * sin(θ0) * t\n",
    "θ(t) = θ0 + R/L * (ωR - ωL) * t\n",
    "\n",
    "<span style=\"color:red\">**???**</span>"
   ]
  },
  {
   "cell_type": "markdown",
   "metadata": {},
   "source": [
    "### Vector Field\n",
    "\n",
    "In the sequel, `omega` is a function that computes the input vector $\\omega := (\\omega_l, \\omega_r)$ given the time $t$ and $(x, y, \\theta)$ (thus, it may depend on the time and/or on the system state if needed). For example:"
   ]
  },
  {
   "cell_type": "code",
   "execution_count": 8,
   "metadata": {},
   "outputs": [],
   "source": [
    "def omega(t, xytheta):\n",
    "    omega_l = (1 - L/4) * pi / Rw\n",
    "    omega_r = (1 + L/4) * pi / Rw\n",
    "    return array([omega_l, omega_r])"
   ]
  },
  {
   "cell_type": "markdown",
   "metadata": {},
   "source": [
    "🧩 Implement a function `fun(t, xytheta)` that computes $(\\dot{x}, \\dot{y}, \\dot{\\theta})$ given the time $t$ and $(x,y,\\theta)$ (and implicitly the inputs $\\omega$ computed by the function `omega`).\n",
    "\n",
    "<span style=\"color:red\">**Votre fonction fun ne fait pas ce qu'il faut. Il faut aussi retourner la dérivée de theta. D'ailleurs, on ne sait pas d'où vient theta dans votre fonction (il aurait fallu l'extraire de la variable xytheta...)**</span>"
   ]
  },
  {
   "cell_type": "code",
   "execution_count": 13,
   "metadata": {},
   "outputs": [],
   "source": [
    "def fun(t, xytheta):\n",
    "    𝜔𝑙,𝜔𝑟=omega(t, xytheta)\n",
    "    Vx=R*(𝜔𝑙+𝜔𝑟)*cos(𝜃)\n",
    "    Vy=R*(𝜔𝑙+𝜔𝑟)*sin(𝜃)\n",
    "    return array([Vx, Vy])"
   ]
  },
  {
   "cell_type": "markdown",
   "metadata": {},
   "source": [
    "### Simulation Setup\n",
    "\n",
    "🧩 Simulate the wheelchair dynamics for 4 seconds when $(x_0, y_0, \\theta_0)(t=0) = (0.0, 0.0, 0.0)$,\n",
    "and the wheels velocities are the constants $\\omega_l = (1 - L/4)  \\pi / R \\mbox{ rad/s}$ and $\\omega_r = (1 + L/4)  \\pi / R_w \\mbox{ rad/s}$.\n",
    "(Compute the dense outputs.)\n",
    "\n",
    "<span style=\"color:red\">**Rien ne va dans la suite... Il fallait faire la simulation avec le solveur d'équa diff solve_ivp...**</span>\n",
    "   "
   ]
  },
  {
   "cell_type": "code",
   "execution_count": 14,
   "metadata": {},
   "outputs": [
    {
     "ename": "NameError",
     "evalue": "name 'etat' is not defined",
     "output_type": "error",
     "traceback": [
      "\u001b[0;31m---------------------------------------------------------------------------\u001b[0m",
      "\u001b[0;31mNameError\u001b[0m                                 Traceback (most recent call last)",
      "Cell \u001b[0;32mIn[14], line 14\u001b[0m\n\u001b[1;32m     12\u001b[0m     Y_etat\u001b[38;5;241m.\u001b[39mappend(y)\n\u001b[1;32m     13\u001b[0m     theta_etat\u001b[38;5;241m.\u001b[39mappend(θ)\n\u001b[0;32m---> 14\u001b[0m \u001b[38;5;28mprint\u001b[39m(\u001b[43metat\u001b[49m)\n",
      "\u001b[0;31mNameError\u001b[0m: name 'etat' is not defined"
     ]
    }
   ],
   "source": [
    "𝜔L=(1-L/4)*np.pi/𝑅_w\n",
    "𝜔r=(1+L/4)*np.pi/𝑅_w\n",
    "θ0=0\n",
    "X_etat=[]\n",
    "Y_etat=[]\n",
    "theta_etat=[]\n",
    "for t in range(4):\n",
    "    x =  𝑅_w/2 * (ωr + ωL) * cos(θ0) * t\n",
    "    y = 𝑅_w/2 * (ωr + ωL) * sin(θ0) * t\n",
    "    θ = θ0 + R_w/L * (ωr - ωL) * t\n",
    "    X_etat.append(x)\n",
    "    Y_etat.append(y)\n",
    "    theta_etat.append(θ)\n",
    "print(etat)"
   ]
  },
  {
   "cell_type": "markdown",
   "metadata": {},
   "source": [
    "🧩 Use the simulation results to draw the graphs of $x(t)$, $y(t)$ and $\\theta(t)$."
   ]
  },
  {
   "cell_type": "code",
   "execution_count": 15,
   "metadata": {},
   "outputs": [
    {
     "data": {
      "image/png": "[encoded data removed]",
      "text/plain": [
       "<Figure size 640x480 with 1 Axes>"
      ]
     },
     "metadata": {},
     "output_type": "display_data"
    }
   ],
   "source": [
    "import matplotlib.pyplot as plt\n",
    "\n",
    "# List of x-coordinates\n",
    "x_values = [ 1, 2, 3, 4]\n",
    "\n",
    "\n",
    "# Plot the data as a line graph\n",
    "plt.plot(x_values, X_etat)\n",
    "plt.plot(x_values, Y_etat)\n",
    "plt.plot(x_values, theta_etat)\n",
    "\n",
    "# Add labels for the x-axis and y-axis\n",
    "plt.xlabel('X values')\n",
    "plt.ylabel('Y values')\n",
    "\n",
    "# Show the plot\n",
    "plt.show()"
   ]
  },
  {
   "cell_type": "markdown",
   "metadata": {},
   "source": [
    "🧩 Use the simulation results to display the robot location every 0.5 second."
   ]
  },
  {
   "cell_type": "code",
   "execution_count": 16,
   "metadata": {},
   "outputs": [],
   "source": [
    "pass"
   ]
  },
  {
   "cell_type": "markdown",
   "metadata": {},
   "source": [
    "🧩 What should be the analytical expression of $x(t)$, $y(t)$ and $\\theta(t)$? "
   ]
  },
  {
   "cell_type": "markdown",
   "metadata": {},
   "source": [
    "**Answer:**"
   ]
  },
  {
   "cell_type": "markdown",
   "metadata": {},
   "source": [
    "🧩 Do you experimental results match the theoretical results ? Draw the curves of the simulation error at time $t$ for $x$, $y$ and $\\theta$."
   ]
  },
  {
   "cell_type": "code",
   "execution_count": null,
   "metadata": {},
   "outputs": [],
   "source": [
    "pass"
   ]
  },
  {
   "cell_type": "markdown",
   "metadata": {},
   "source": [
    "🧩 If needed, adjust the simulation parameters until this error is uniformly less than $2 \\times 10^{-5}$ for every component of $(x, y, \\theta)$."
   ]
  },
  {
   "cell_type": "code",
   "execution_count": null,
   "metadata": {},
   "outputs": [],
   "source": [
    "pass"
   ]
  }
 ],
 "metadata": {
  "kernelspec": {
   "display_name": "Python 3 (ipykernel)",
   "language": "python",
   "name": "python3"
  },
  "language_info": {
   "codemirror_mode": {
    "name": "ipython",
    "version": 3
   },
   "file_extension": ".py",
   "mimetype": "text/x-python",
   "name": "python",
   "nbconvert_exporter": "python",
   "pygments_lexer": "ipython3",
   "version": "3.9.16"
  }
 },
 "nbformat": 4,
 "nbformat_minor": 4
}
